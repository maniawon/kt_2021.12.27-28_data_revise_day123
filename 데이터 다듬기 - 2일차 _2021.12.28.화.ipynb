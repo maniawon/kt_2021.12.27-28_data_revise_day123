{
 "cells": [
  {
   "cell_type": "markdown",
   "id": "5f06e171",
   "metadata": {},
   "source": [
    "복습"
   ]
  },
  {
   "cell_type": "code",
   "execution_count": 240,
   "id": "32323d7a",
   "metadata": {},
   "outputs": [
    {
     "name": "stdout",
     "output_type": "stream",
     "text": [
      "   total_bill   tip     sex smoker  day    time  size\n",
      "0       16.99  1.01  Female     No  Sun  Dinner     2\n",
      "1       10.34  1.66    Male     No  Sun  Dinner     3\n",
      "2       21.01  3.50    Male     No  Sun  Dinner     3\n",
      "3       23.68  3.31    Male     No  Sun  Dinner     2\n",
      "4       24.59  3.61  Female     No  Sun  Dinner     4\n"
     ]
    }
   ],
   "source": [
    "# 라이브러리 불러오기\n",
    "import pandas as pd\n",
    "# import matplotlib.pyplot as plt\n",
    "\n",
    "# 데이터 불러오기\n",
    "path = 'https://bit.ly/TipsFile'\n",
    "tip = pd.read_csv(path)\n",
    "\n",
    "# 확인\n",
    "print(tip.head())"
   ]
  },
  {
   "cell_type": "code",
   "execution_count": 241,
   "id": "f3c36efe",
   "metadata": {},
   "outputs": [
    {
     "name": "stdout",
     "output_type": "stream",
     "text": [
      "<class 'pandas.core.frame.DataFrame'>\n",
      "RangeIndex: 244 entries, 0 to 243\n",
      "Data columns (total 7 columns):\n",
      " #   Column      Non-Null Count  Dtype  \n",
      "---  ------      --------------  -----  \n",
      " 0   total_bill  244 non-null    float64\n",
      " 1   tip         244 non-null    float64\n",
      " 2   sex         244 non-null    object \n",
      " 3   smoker      244 non-null    object \n",
      " 4   day         244 non-null    object \n",
      " 5   time        244 non-null    object \n",
      " 6   size        244 non-null    int64  \n",
      "dtypes: float64(2), int64(1), object(4)\n",
      "memory usage: 13.5+ KB\n",
      "None\n"
     ]
    }
   ],
   "source": [
    "# 열 이름, 데이터 개수, 데이터 형식\n",
    "print(tip.info())"
   ]
  },
  {
   "cell_type": "markdown",
   "id": "509963d3",
   "metadata": {},
   "source": [
    "선택할 수 있는 값이 : 범주형"
   ]
  },
  {
   "cell_type": "code",
   "execution_count": 246,
   "id": "ca169be3",
   "metadata": {
    "scrolled": true
   },
   "outputs": [
    {
     "name": "stdout",
     "output_type": "stream",
     "text": [
      "Sat     87\n",
      "Sun     76\n",
      "Thur    62\n",
      "Fri     19\n",
      "Name: day, dtype: int64\n"
     ]
    }
   ],
   "source": [
    "# 범주값 개수 확인\n",
    "print(tip['day'].value_counts())"
   ]
  },
  {
   "cell_type": "code",
   "execution_count": 243,
   "id": "bfe2ea16",
   "metadata": {},
   "outputs": [
    {
     "name": "stdout",
     "output_type": "stream",
     "text": [
      "total_bill    50.81\n",
      "tip           10.00\n",
      "dtype: float64\n"
     ]
    }
   ],
   "source": [
    "# 특정 열 최대값\n",
    "print(tip[ ['total_bill', 'tip'] ].max())"
   ]
  },
  {
   "cell_type": "markdown",
   "id": "c229c818",
   "metadata": {},
   "source": [
    "-----------------------------------------------------------------------"
   ]
  },
  {
   "cell_type": "markdown",
   "id": "95e0cd2b",
   "metadata": {},
   "source": [
    "# 1) 데이터 조회"
   ]
  },
  {
   "cell_type": "markdown",
   "id": "ca1fe4f2",
   "metadata": {},
   "source": [
    "# ★ 데이터프레임.loc[ 행정보 , 열정보 ] ★"
   ]
  },
  {
   "cell_type": "markdown",
   "id": "d6f7afb6",
   "metadata": {},
   "source": [
    "## 열조회"
   ]
  },
  {
   "cell_type": "code",
   "execution_count": 15,
   "id": "dd2baed8",
   "metadata": {},
   "outputs": [
    {
     "name": "stdout",
     "output_type": "stream",
     "text": [
      "0      1.01\n",
      "1      1.66\n",
      "2      3.50\n",
      "3      3.31\n",
      "4      3.61\n",
      "       ... \n",
      "239    5.92\n",
      "240    2.00\n",
      "241    2.00\n",
      "242    1.75\n",
      "243    3.00\n",
      "Name: tip, Length: 244, dtype: float64\n",
      "==================================================\n",
      "0      16.99\n",
      "1      10.34\n",
      "2      21.01\n",
      "3      23.68\n",
      "4      24.59\n",
      "       ...  \n",
      "239    29.03\n",
      "240    27.18\n",
      "241    22.67\n",
      "242    17.82\n",
      "243    18.78\n",
      "Name: total_bill, Length: 244, dtype: float64\n"
     ]
    }
   ],
   "source": [
    "# 열 하나 조회\n",
    "# tip.loc[ 행정보 , 열정보 ]\n",
    "print(tip.loc[ : , 'tip' ])\n",
    "\n",
    "print('='*50)\n",
    "\n",
    "print(tip['total_bill' ])"
   ]
  },
  {
   "cell_type": "code",
   "execution_count": 21,
   "id": "240a7729",
   "metadata": {},
   "outputs": [
    {
     "name": "stdout",
     "output_type": "stream",
     "text": [
      "      tip  total_bill\n",
      "0    1.01       16.99\n",
      "1    1.66       10.34\n",
      "2    3.50       21.01\n",
      "3    3.31       23.68\n",
      "4    3.61       24.59\n",
      "..    ...         ...\n",
      "239  5.92       29.03\n",
      "240  2.00       27.18\n",
      "241  2.00       22.67\n",
      "242  1.75       17.82\n",
      "243  3.00       18.78\n",
      "\n",
      "[244 rows x 2 columns]\n",
      "==================================================\n",
      "      tip  total_bill\n",
      "0    1.01       16.99\n",
      "1    1.66       10.34\n",
      "2    3.50       21.01\n",
      "3    3.31       23.68\n",
      "4    3.61       24.59\n",
      "..    ...         ...\n",
      "239  5.92       29.03\n",
      "240  2.00       27.18\n",
      "241  2.00       22.67\n",
      "242  1.75       17.82\n",
      "243  3.00       18.78\n",
      "\n",
      "[244 rows x 2 columns]\n"
     ]
    }
   ],
   "source": [
    "# 열 여럿 조회\n",
    "print(tip.loc[ : , ['tip', 'total_bill'] ]) # 리스트로 덩어리를 줘서 2개의 컬럼을 조회\n",
    "\n",
    "print('='*50)\n",
    "\n",
    "print(tip[ ['tip', 'total_bill'] ]) # 컬럼조회할 때만 loc 뺄 수 있음, 나머지는 다 loc 붙인다!"
   ]
  },
  {
   "cell_type": "code",
   "execution_count": 22,
   "id": "ea71ee63",
   "metadata": {},
   "outputs": [
    {
     "name": "stdout",
     "output_type": "stream",
     "text": [
      "      tip     sex smoker   day\n",
      "0    1.01  Female     No   Sun\n",
      "1    1.66    Male     No   Sun\n",
      "2    3.50    Male     No   Sun\n",
      "3    3.31    Male     No   Sun\n",
      "4    3.61  Female     No   Sun\n",
      "..    ...     ...    ...   ...\n",
      "239  5.92    Male     No   Sat\n",
      "240  2.00  Female    Yes   Sat\n",
      "241  2.00    Male    Yes   Sat\n",
      "242  1.75    Male     No   Sat\n",
      "243  3.00  Female     No  Thur\n",
      "\n",
      "[244 rows x 4 columns]\n"
     ]
    }
   ],
   "source": [
    "# 열 범위 조회\n",
    "# 범위를 줄 때는 무조건 .loc[] 를 써야한다★\n",
    "\n",
    "print(tip.loc[ : , 'tip':'day' ])"
   ]
  },
  {
   "cell_type": "code",
   "execution_count": 24,
   "id": "7b021dab",
   "metadata": {},
   "outputs": [
    {
     "name": "stdout",
     "output_type": "stream",
     "text": [
      "      tip   day    time\n",
      "0    1.01   Sun  Dinner\n",
      "1    1.66   Sun  Dinner\n",
      "2    3.50   Sun  Dinner\n",
      "3    3.31   Sun  Dinner\n",
      "4    3.61   Sun  Dinner\n",
      "..    ...   ...     ...\n",
      "239  5.92   Sat  Dinner\n",
      "240  2.00   Sat  Dinner\n",
      "241  2.00   Sat  Dinner\n",
      "242  1.75   Sat  Dinner\n",
      "243  3.00  Thur  Dinner\n",
      "\n",
      "[244 rows x 3 columns]\n",
      "      tip   day    time\n",
      "0    1.01   Sun  Dinner\n",
      "1    1.66   Sun  Dinner\n",
      "2    3.50   Sun  Dinner\n",
      "3    3.31   Sun  Dinner\n",
      "4    3.61   Sun  Dinner\n",
      "..    ...   ...     ...\n",
      "239  5.92   Sat  Dinner\n",
      "240  2.00   Sat  Dinner\n",
      "241  2.00   Sat  Dinner\n",
      "242  1.75   Sat  Dinner\n",
      "243  3.00  Thur  Dinner\n",
      "\n",
      "[244 rows x 3 columns]\n"
     ]
    }
   ],
   "source": [
    "# tip, day, time 열 만 조회\n",
    "print(tip.loc[ : , ['tip', 'day', 'time'] ])\n",
    "print(tip[ ['tip', 'day', 'time'] ])"
   ]
  },
  {
   "cell_type": "code",
   "execution_count": 25,
   "id": "91e74c66",
   "metadata": {
    "scrolled": true
   },
   "outputs": [
    {
     "name": "stdout",
     "output_type": "stream",
     "text": [
      "   day    time   tip\n",
      "0  Sun  Dinner  1.01\n",
      "1  Sun  Dinner  1.66\n",
      "2  Sun  Dinner  3.50\n",
      "3  Sun  Dinner  3.31\n",
      "4  Sun  Dinner  3.61\n"
     ]
    }
   ],
   "source": [
    "tip2 = tip[['day', 'time', 'tip']]\n",
    "print(tip2.head())"
   ]
  },
  {
   "cell_type": "markdown",
   "id": "d5e1465c",
   "metadata": {},
   "source": [
    "## 행 조회(대부분 조건 조회)"
   ]
  },
  {
   "cell_type": "code",
   "execution_count": 28,
   "id": "dcac76b3",
   "metadata": {},
   "outputs": [
    {
     "name": "stdout",
     "output_type": "stream",
     "text": [
      "   total_bill   tip     sex smoker  day    time  size\n",
      "0       16.99  1.01  Female     No  Sun  Dinner     2\n",
      "1       10.34  1.66    Male     No  Sun  Dinner     3\n",
      "2       21.01  3.50    Male     No  Sun  Dinner     3\n",
      "3       23.68  3.31    Male     No  Sun  Dinner     2\n",
      "4       24.59  3.61  Female     No  Sun  Dinner     4\n"
     ]
    }
   ],
   "source": [
    "print(tip.head())"
   ]
  },
  {
   "cell_type": "code",
   "execution_count": 32,
   "id": "787399ee",
   "metadata": {},
   "outputs": [
    {
     "name": "stdout",
     "output_type": "stream",
     "text": [
      "total_bill     23.68\n",
      "tip             3.31\n",
      "sex             Male\n",
      "smoker            No\n",
      "day              Sun\n",
      "time          Dinner\n",
      "size               2\n",
      "Name: 3, dtype: object\n",
      "total_bill     23.68\n",
      "tip             3.31\n",
      "sex             Male\n",
      "smoker            No\n",
      "day              Sun\n",
      "time          Dinner\n",
      "size               2\n",
      "Name: 3, dtype: object\n"
     ]
    }
   ],
   "source": [
    "# index가 3인 행을 보고 싶다\n",
    "print(tip.loc[ 3, : ])\n",
    "print(tip.loc[3]) # 열을 조회 할 때 앞부분은 생략할 수 없지만 뒤에는 생략가능"
   ]
  },
  {
   "cell_type": "code",
   "execution_count": 47,
   "id": "71242cb0",
   "metadata": {},
   "outputs": [
    {
     "name": "stdout",
     "output_type": "stream",
     "text": [
      "     total_bill  tip     sex smoker   day    time  size\n",
      "11        35.26  5.0  Female     No   Sun  Dinner     4\n",
      "39        31.27  5.0    Male     No   Sat  Dinner     3\n",
      "46        22.23  5.0    Male     No   Sun  Dinner     2\n",
      "73        25.28  5.0  Female    Yes   Sat  Dinner     2\n",
      "83        32.68  5.0    Male    Yes  Thur   Lunch     2\n",
      "142       41.19  5.0    Male     No  Thur   Lunch     5\n",
      "143       27.05  5.0  Female     No  Thur   Lunch     6\n",
      "156       48.17  5.0    Male     No   Sun  Dinner     6\n",
      "185       20.69  5.0    Male     No   Sun  Dinner     5\n",
      "197       43.11  5.0  Female    Yes  Thur   Lunch     4\n"
     ]
    }
   ],
   "source": [
    "# tip 컬럼이 5 달러 인 것\n",
    "print(tip.loc[ tip['tip'] == 5, : ])"
   ]
  },
  {
   "cell_type": "markdown",
   "id": "e88dcf51",
   "metadata": {},
   "source": [
    "&(and), |(or)"
   ]
  },
  {
   "cell_type": "code",
   "execution_count": 48,
   "id": "3c5e727b",
   "metadata": {},
   "outputs": [
    {
     "name": "stdout",
     "output_type": "stream",
     "text": [
      "     total_bill   tip   sex smoker  day    time  size\n",
      "170       50.81  10.0  Male    Yes  Sat  Dinner     3\n",
      "212       48.33   9.0  Male     No  Sat  Dinner     4\n"
     ]
    }
   ],
   "source": [
    "# tip 컬럼이 8 달러 이상인 것\n",
    "print(tip.loc[ tip['tip'] >= 8, : ])"
   ]
  },
  {
   "cell_type": "code",
   "execution_count": 49,
   "id": "f4fb1fd0",
   "metadata": {},
   "outputs": [
    {
     "name": "stdout",
     "output_type": "stream",
     "text": [
      "     total_bill    tip     sex smoker   day    time  size\n",
      "39        31.27   5.00    Male     No   Sat  Dinner     3\n",
      "46        22.23   5.00    Male     No   Sun  Dinner     2\n",
      "73        25.28   5.00  Female    Yes   Sat  Dinner     2\n",
      "83        32.68   5.00    Male    Yes  Thur   Lunch     2\n",
      "88        24.71   5.85    Male     No  Thur   Lunch     2\n",
      "170       50.81  10.00    Male    Yes   Sat  Dinner     3\n",
      "172        7.25   5.15    Male    Yes   Sun  Dinner     2\n",
      "181       23.33   5.65    Male    Yes   Sun  Dinner     2\n",
      "214       28.17   6.50  Female    Yes   Sat  Dinner     3\n",
      "239       29.03   5.92    Male     No   Sat  Dinner     3\n"
     ]
    }
   ],
   "source": [
    "# tip 컬럼이 5 달러 이상이고 size 컬럼이 4 미만 인 것\n",
    "print(tip.loc[ (tip['tip'] >= 5) & (tip['size'] < 4)  , : ])"
   ]
  },
  {
   "cell_type": "code",
   "execution_count": 52,
   "id": "bcf6ae7f",
   "metadata": {},
   "outputs": [
    {
     "name": "stdout",
     "output_type": "stream",
     "text": [
      "     total_bill    tip     sex smoker   day    time  size\n",
      "39        31.27   5.00    Male     No   Sat  Dinner     3\n",
      "46        22.23   5.00    Male     No   Sun  Dinner     2\n",
      "73        25.28   5.00  Female    Yes   Sat  Dinner     2\n",
      "83        32.68   5.00    Male    Yes  Thur   Lunch     2\n",
      "88        24.71   5.85    Male     No  Thur   Lunch     2\n",
      "170       50.81  10.00    Male    Yes   Sat  Dinner     3\n",
      "172        7.25   5.15    Male    Yes   Sun  Dinner     2\n",
      "181       23.33   5.65    Male    Yes   Sun  Dinner     2\n",
      "214       28.17   6.50  Female    Yes   Sat  Dinner     3\n",
      "239       29.03   5.92    Male     No   Sat  Dinner     3\n"
     ]
    }
   ],
   "source": [
    "# tip 컬럼이 5 달러 이상이고 size 컬럼이 4 미만 인 것 ← 심플하게!!!\n",
    "\n",
    "cond1 = tip['tip'] >= 5\n",
    "cond2 = tip['size'] < 4\n",
    "\n",
    "print(tip.loc[ cond1 & cond2 , : ])"
   ]
  },
  {
   "cell_type": "code",
   "execution_count": 63,
   "id": "917b0b0f",
   "metadata": {
    "scrolled": true
   },
   "outputs": [
    {
     "name": "stdout",
     "output_type": "stream",
     "text": [
      "    tip  day    time\n",
      "1  1.66  Sun  Dinner\n",
      "2  3.50  Sun  Dinner\n",
      "3  3.31  Sun  Dinner\n",
      "5  4.71  Sun  Dinner\n",
      "6  2.00  Sun  Dinner\n"
     ]
    }
   ],
   "source": [
    "# tip 데이터프레임에서 남자 고객의 tip, day, time만 추출해서 tip2 데이터프레임 선언\n",
    "\n",
    "tip2 = tip.loc[tip['sex'] == 'Male', ['tip', 'day', 'time']]\n",
    "print(tip2.head())"
   ]
  },
  {
   "cell_type": "markdown",
   "id": "4402625f",
   "metadata": {},
   "source": [
    "-----------------------------------------------------------------------"
   ]
  },
  {
   "cell_type": "markdown",
   "id": "57992bb5",
   "metadata": {},
   "source": [
    "연습"
   ]
  },
  {
   "cell_type": "code",
   "execution_count": 86,
   "id": "29447e58",
   "metadata": {
    "scrolled": true
   },
   "outputs": [
    {
     "name": "stdout",
     "output_type": "stream",
     "text": [
      "18.65\n"
     ]
    }
   ],
   "source": [
    "c1 = (tip['size'] == 1)\n",
    "c2 = (tip['day'].isin(['Thur', 'Fri']))\n",
    "tmp = tip.loc[c1 & c2 , 'total_bill'].sum()\n",
    "print(tmp)"
   ]
  },
  {
   "cell_type": "markdown",
   "id": "fb784e77",
   "metadata": {},
   "source": [
    "-----------------------------------------------------------------------"
   ]
  },
  {
   "cell_type": "code",
   "execution_count": 101,
   "id": "40b8c70e",
   "metadata": {},
   "outputs": [
    {
     "name": "stdout",
     "output_type": "stream",
     "text": [
      "   total_bill   tip     sex smoker  day    time  size\n",
      "0       16.99  1.01  Female     No  Sun  Dinner     2\n",
      "1       10.34  1.66    Male     No  Sun  Dinner     3\n",
      "2       21.01  3.50    Male     No  Sun  Dinner     3\n",
      "3       23.68  3.31    Male     No  Sun  Dinner     2\n",
      "4       24.59  3.61  Female     No  Sun  Dinner     4\n"
     ]
    }
   ],
   "source": [
    "print(tip.head())"
   ]
  },
  {
   "cell_type": "code",
   "execution_count": 110,
   "id": "84bc3503",
   "metadata": {
    "scrolled": true
   },
   "outputs": [
    {
     "name": "stdout",
     "output_type": "stream",
     "text": [
      "     total_bill    tip     sex smoker  day    time  size\n",
      "170       50.81  10.00    Male    Yes  Sat  Dinner     3\n",
      "212       48.33   9.00    Male     No  Sat  Dinner     4\n",
      "59        48.27   6.73    Male     No  Sat  Dinner     4\n",
      "156       48.17   5.00    Male     No  Sun  Dinner     6\n",
      "182       45.35   3.50    Male    Yes  Sun  Dinner     3\n",
      "..          ...    ...     ...    ...  ...     ...   ...\n",
      "6          8.77   2.00    Male     No  Sun  Dinner     2\n",
      "218        7.74   1.44    Male    Yes  Sat  Dinner     2\n",
      "172        7.25   5.15    Male    Yes  Sun  Dinner     2\n",
      "111        7.25   1.00  Female     No  Sat  Dinner     1\n",
      "67         3.07   1.00  Female    Yes  Sat  Dinner     1\n",
      "\n",
      "[163 rows x 7 columns]\n"
     ]
    }
   ],
   "source": [
    "# 토요일, 일요일 의 data 만 조회\n",
    "tmp = tip.loc[tip['day'].isin(['Sat', 'Sun']), :]\n",
    "# total_bill 기준으로 내림차순으로 정렬\n",
    "tmp = tmp.sort_values(by='total_bill', ascending=False)  # 방법1\n",
    "\n",
    "# 확인\n",
    "print(tmp)"
   ]
  },
  {
   "cell_type": "markdown",
   "id": "e48973a9",
   "metadata": {},
   "source": [
    "→ reset_index() 로 인덱스를 깔끔하게 정렬해주자"
   ]
  },
  {
   "cell_type": "markdown",
   "id": "fb7cf937",
   "metadata": {},
   "source": [
    "### ▼  .copy() 를 해야 → 복사를 해서 데이터프레임을 따로 따로 핸들링 할 수 있다"
   ]
  },
  {
   "cell_type": "code",
   "execution_count": 114,
   "id": "ae4b827b",
   "metadata": {
    "scrolled": true
   },
   "outputs": [
    {
     "name": "stdout",
     "output_type": "stream",
     "text": [
      "   total_bill    tip     sex smoker  day    time  size\n",
      "0       50.81  10.00    Male    Yes  Sat  Dinner     3\n",
      "1       48.33   9.00    Male     No  Sat  Dinner     4\n",
      "2       48.27   6.73    Male     No  Sat  Dinner     4\n",
      "3       48.17   5.00    Male     No  Sun  Dinner     6\n",
      "4       45.35   3.50    Male    Yes  Sun  Dinner     3\n",
      "5       44.30   2.50  Female    Yes  Sat  Dinner     3\n",
      "6       40.55   3.00    Male    Yes  Sun  Dinner     2\n",
      "7       39.42   7.58    Male     No  Sat  Dinner     4\n",
      "8       38.73   3.00    Male    Yes  Sat  Dinner     4\n",
      "9       38.07   4.00    Male     No  Sun  Dinner     3\n"
     ]
    }
   ],
   "source": [
    "# 토요일, 일요일 의 data 만 조회\n",
    "top10 = tip.loc[tip['day'].isin(['Sat', 'Sun']), :].copy()\n",
    "\n",
    "# total_bill 기준으로 내림차순으로 정렬\n",
    "top10.sort_values(by='total_bill', ascending=False, inplace=True) # 방법2\n",
    "top10 = top10.head(10)\n",
    "top10.reset_index(drop=True, inplace=True)\n",
    "\n",
    "# 확인\n",
    "print(top10)"
   ]
  },
  {
   "cell_type": "markdown",
   "id": "f1f803af",
   "metadata": {},
   "source": [
    "-----------------------------------------------------------------------"
   ]
  },
  {
   "cell_type": "markdown",
   "id": "bd04450a",
   "metadata": {},
   "source": [
    "# 2) 데이터프레임 집계\n",
    "109~"
   ]
  },
  {
   "cell_type": "code",
   "execution_count": 116,
   "id": "010124a2",
   "metadata": {},
   "outputs": [
    {
     "name": "stdout",
     "output_type": "stream",
     "text": [
      "   total_bill   tip     sex smoker  day    time  size\n",
      "0       16.99  1.01  Female     No  Sun  Dinner     2\n",
      "1       10.34  1.66    Male     No  Sun  Dinner     3\n",
      "2       21.01  3.50    Male     No  Sun  Dinner     3\n",
      "3       23.68  3.31    Male     No  Sun  Dinner     2\n",
      "4       24.59  3.61  Female     No  Sun  Dinner     4\n"
     ]
    }
   ],
   "source": [
    "print(tip.head())"
   ]
  },
  {
   "cell_type": "code",
   "execution_count": 120,
   "id": "d038a286",
   "metadata": {},
   "outputs": [
    {
     "name": "stdout",
     "output_type": "stream",
     "text": [
      "4827.77\n"
     ]
    }
   ],
   "source": [
    "tmp = tip['total_bill'].sum()\n",
    "print(tmp)"
   ]
  },
  {
   "cell_type": "markdown",
   "id": "d2d74918",
   "metadata": {},
   "source": [
    "## 데이터프레임.groupby(by='컬럼명', as_index=True)  \n",
    "* as_index=True를 설정(기본값)하면 집계 기준이 되는 열이 인덱스 열이 된다  "
   ]
  },
  {
   "cell_type": "code",
   "execution_count": 125,
   "id": "8138ee6a",
   "metadata": {
    "scrolled": true
   },
   "outputs": [
    {
     "name": "stdout",
     "output_type": "stream",
     "text": [
      "day\n",
      "Fri      325.88\n",
      "Sat     1778.40\n",
      "Sun     1627.16\n",
      "Thur    1096.33\n",
      "Name: total_bill, dtype: float64\n"
     ]
    }
   ],
   "source": [
    "tmp = tip.groupby(by='day', as_index=True)['total_bill'].sum()\n",
    "print(tmp)"
   ]
  },
  {
   "cell_type": "markdown",
   "id": "5732d809",
   "metadata": {},
   "source": [
    "* as_index=False를 설정하면 열로 들어간다."
   ]
  },
  {
   "cell_type": "code",
   "execution_count": 126,
   "id": "b97e9985",
   "metadata": {
    "scrolled": false
   },
   "outputs": [
    {
     "name": "stdout",
     "output_type": "stream",
     "text": [
      "    day  total_bill\n",
      "0   Fri      325.88\n",
      "1   Sat     1778.40\n",
      "2   Sun     1627.16\n",
      "3  Thur     1096.33\n"
     ]
    }
   ],
   "source": [
    "tmp = tip.groupby(by='day', as_index=False)['total_bill'].sum()\n",
    "print(tmp)"
   ]
  },
  {
   "cell_type": "markdown",
   "id": "59d57a56",
   "metadata": {},
   "source": [
    "## 집계 결과 시각화"
   ]
  },
  {
   "cell_type": "code",
   "execution_count": 139,
   "id": "54214eb6",
   "metadata": {},
   "outputs": [
    {
     "data": {
      "image/png": "[encoded data removed]",
      "text/plain": [
       "<Figure size 432x288 with 1 Axes>"
      ]
     },
     "metadata": {
      "needs_background": "light"
     },
     "output_type": "display_data"
    },
    {
     "data": {
      "text/plain": [
       "<Figure size 432x288 with 0 Axes>"
      ]
     },
     "metadata": {},
     "output_type": "display_data"
    }
   ],
   "source": [
    "tmp = tip.groupby(by='day', as_index=False)['total_bill'].sum()\n",
    "tmp.sort_values(by='total_bill', ascending=False, inplace=True)\n",
    "\n",
    "# 시각화 \n",
    "import matplotlib.pyplot as plt\n",
    "\n",
    "# 가로 막대\n",
    "plt.barh(tmp['day'], tmp['total_bill'])\n",
    "plt.title('Eat^^')\n",
    "plt.show()\n",
    "\n",
    "plt.savefig('test.png')"
   ]
  },
  {
   "cell_type": "code",
   "execution_count": 143,
   "id": "7e17bfed",
   "metadata": {},
   "outputs": [
    {
     "data": {
      "image/png": "[encoded data removed]",
      "text/plain": [
       "<Figure size 432x288 with 1 Axes>"
      ]
     },
     "metadata": {
      "needs_background": "light"
     },
     "output_type": "display_data"
    },
    {
     "data": {
      "text/plain": [
       "<Figure size 432x288 with 0 Axes>"
      ]
     },
     "metadata": {},
     "output_type": "display_data"
    }
   ],
   "source": [
    "tmp = tip.groupby(by='day', as_index=False)['total_bill'].sum()\n",
    "tmp.sort_values(by='total_bill', ascending=False, inplace=True)\n",
    "\n",
    "# 시각화 \n",
    "import matplotlib.pyplot as plt\n",
    "\n",
    "# 세로막대\n",
    "plt.bar(tmp['day'], tmp['total_bill'])\n",
    "plt.title('>_<')\n",
    "plt.show()\n",
    "\n",
    "plt.savefig('test.png')"
   ]
  },
  {
   "cell_type": "code",
   "execution_count": 154,
   "id": "06dfa74e",
   "metadata": {},
   "outputs": [
    {
     "data": {
      "image/png": "[encoded data removed]",
      "text/plain": [
       "<Figure size 432x288 with 1 Axes>"
      ]
     },
     "metadata": {
      "needs_background": "light"
     },
     "output_type": "display_data"
    },
    {
     "data": {
      "text/plain": [
       "<Figure size 432x288 with 0 Axes>"
      ]
     },
     "metadata": {},
     "output_type": "display_data"
    }
   ],
   "source": [
    "# 시각화 \n",
    "import matplotlib.pyplot as plt\n",
    "\n",
    "# 선 그래프\n",
    "plt.plot(tip['total_bill'])\n",
    "plt.title('total_bill plot')\n",
    "plt.show()\n",
    "\n",
    "plt.savefig('test.png')"
   ]
  },
  {
   "cell_type": "code",
   "execution_count": 156,
   "id": "50e94169",
   "metadata": {},
   "outputs": [
    {
     "data": {
      "image/png": "[encoded data removed]",
      "text/plain": [
       "<Figure size 432x288 with 1 Axes>"
      ]
     },
     "metadata": {
      "needs_background": "light"
     },
     "output_type": "display_data"
    },
    {
     "data": {
      "text/plain": [
       "<Figure size 432x288 with 0 Axes>"
      ]
     },
     "metadata": {},
     "output_type": "display_data"
    }
   ],
   "source": [
    "# 시각화 \n",
    "import matplotlib.pyplot as plt\n",
    "\n",
    "# 선 그래프\n",
    "plt.plot(tip['tip'])\n",
    "plt.title('tip plot')\n",
    "plt.show()\n",
    "\n",
    "plt.savefig('test.png')"
   ]
  },
  {
   "cell_type": "code",
   "execution_count": 162,
   "id": "68a2a31d",
   "metadata": {
    "scrolled": true
   },
   "outputs": [
    {
     "data": {
      "image/png": "[encoded data removed]",
      "text/plain": [
       "<Figure size 432x288 with 1 Axes>"
      ]
     },
     "metadata": {
      "needs_background": "light"
     },
     "output_type": "display_data"
    },
    {
     "data": {
      "text/plain": [
       "<Figure size 432x288 with 0 Axes>"
      ]
     },
     "metadata": {},
     "output_type": "display_data"
    }
   ],
   "source": [
    "# 시각화 \n",
    "import matplotlib.pyplot as plt\n",
    "\n",
    "# 선 그래프 2개를 한 그래프에 그리기\n",
    "plt.plot(tip['total_bill'])\n",
    "plt.plot(tip['tip'])\n",
    "\n",
    "# 범례 표시 \n",
    "plt.legend(['Total_bill', 'Tip'])\n",
    "\n",
    "# 차트 제목\n",
    "plt.title('2 plot')\n",
    "\n",
    "# y축 단위 표시\n",
    "plt.ylabel('($)')\n",
    "\n",
    "plt.show()\n",
    "\n",
    "plt.savefig('test.png')"
   ]
  },
  {
   "cell_type": "markdown",
   "id": "2e9d5d5b",
   "metadata": {},
   "source": [
    "-----------------------------------------------------------------------"
   ]
  },
  {
   "cell_type": "markdown",
   "id": "0fa0aa71",
   "metadata": {},
   "source": [
    "4.1.2.여러 열 집계"
   ]
  },
  {
   "cell_type": "code",
   "execution_count": 165,
   "id": "e6a3bb8f",
   "metadata": {},
   "outputs": [
    {
     "name": "stdout",
     "output_type": "stream",
     "text": [
      "    day  total_bill     tip\n",
      "0   Fri      325.88   51.96\n",
      "1   Sat     1778.40  260.40\n",
      "2   Sun     1627.16  247.39\n",
      "3  Thur     1096.33  171.83\n"
     ]
    }
   ],
   "source": [
    "# day 별 total_bill, tip 합계\n",
    "\n",
    "tmp = tip.groupby(by='day', as_index=False)[['total_bill', 'tip']].sum()\n",
    "print(tmp)"
   ]
  },
  {
   "cell_type": "code",
   "execution_count": 166,
   "id": "ee5271a1",
   "metadata": {},
   "outputs": [
    {
     "name": "stdout",
     "output_type": "stream",
     "text": [
      "    day  total_bill       tip\n",
      "0   Fri   17.151579  2.734737\n",
      "1   Sat   20.441379  2.993103\n",
      "2   Sun   21.410000  3.255132\n",
      "3  Thur   17.682742  2.771452\n"
     ]
    }
   ],
   "source": [
    "# day 별 total_bill, tip 평균\n",
    "\n",
    "tmp = tip.groupby(by='day', as_index=False)[['total_bill', 'tip']].mean()\n",
    "print(tmp)"
   ]
  },
  {
   "cell_type": "code",
   "execution_count": 170,
   "id": "9aff694c",
   "metadata": {},
   "outputs": [
    {
     "name": "stdout",
     "output_type": "stream",
     "text": [
      "    day  total_bill       tip      size\n",
      "0   Fri   17.151579  2.734737  2.105263\n",
      "1   Sat   20.441379  2.993103  2.517241\n",
      "2   Sun   21.410000  3.255132  2.842105\n",
      "3  Thur   17.682742  2.771452  2.451613\n"
     ]
    }
   ],
   "source": [
    "# tip 데이터프레임의 \n",
    "# 모든 열에 대한 day별 평균 구하기\n",
    "\n",
    "tmp = tip.groupby(by='day', as_index=False).mean()\n",
    "print(tmp)"
   ]
  },
  {
   "cell_type": "code",
   "execution_count": 175,
   "id": "f4a576e1",
   "metadata": {},
   "outputs": [
    {
     "name": "stdout",
     "output_type": "stream",
     "text": [
      "    day     sex  total_bill       tip      size\n",
      "0   Fri  Female   14.145556  2.781111  2.111111\n",
      "1   Fri    Male   19.857000  2.693000  2.100000\n",
      "2   Sat  Female   19.680357  2.801786  2.250000\n",
      "3   Sat    Male   20.802542  3.083898  2.644068\n",
      "4   Sun  Female   19.872222  3.367222  2.944444\n",
      "5   Sun    Male   21.887241  3.220345  2.810345\n",
      "6  Thur  Female   16.715312  2.575625  2.468750\n",
      "7  Thur    Male   18.714667  2.980333  2.433333\n"
     ]
    }
   ],
   "source": [
    "# 모든 열에 대한 day 별 sex 별 평균 구하기\n",
    "\n",
    "tmp = tip.groupby(by=['day', 'sex'], as_index=False).mean()\n",
    "print(tmp)"
   ]
  },
  {
   "cell_type": "code",
   "execution_count": 177,
   "id": "d89ce292",
   "metadata": {
    "scrolled": true
   },
   "outputs": [
    {
     "name": "stdout",
     "output_type": "stream",
     "text": [
      "    day    time  total_bill       tip      size\n",
      "0   Fri  Dinner   19.663333  2.940000  2.166667\n",
      "1   Fri   Lunch   12.845714  2.382857  2.000000\n",
      "2   Sat  Dinner   20.441379  2.993103  2.517241\n",
      "3   Sun  Dinner   21.410000  3.255132  2.842105\n",
      "4  Thur  Dinner   18.780000  3.000000  2.000000\n",
      "5  Thur   Lunch   17.664754  2.767705  2.459016\n"
     ]
    }
   ],
   "source": [
    "# 모든 열에 대한 day 별 time 별 평균 구하기\n",
    "\n",
    "tmp = tip.groupby(by=['day', 'time'], as_index=False).mean()\n",
    "print(tmp)"
   ]
  }
 ],
 "metadata": {
  "kernelspec": {
   "display_name": "Python 3",
   "language": "python",
   "name": "python3"
  },
  "language_info": {
   "codemirror_mode": {
    "name": "ipython",
    "version": 3
   },
   "file_extension": ".py",
   "mimetype": "text/x-python",
   "name": "python",
   "nbconvert_exporter": "python",
   "pygments_lexer": "ipython3",
   "version": "3.8.8"
  }
 },
 "nbformat": 4,
 "nbformat_minor": 5
}
