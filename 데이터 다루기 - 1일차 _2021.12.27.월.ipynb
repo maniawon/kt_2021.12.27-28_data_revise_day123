{
 "cells": [
  {
   "cell_type": "code",
   "execution_count": 137,
   "id": "053341fc",
   "metadata": {},
   "outputs": [
    {
     "name": "stdout",
     "output_type": "stream",
     "text": [
      "The Zen of Python, by Tim Peters\n",
      "\n",
      "Beautiful is better than ugly.\n",
      "Explicit is better than implicit.\n",
      "Simple is better than complex.\n",
      "Complex is better than complicated.\n",
      "Flat is better than nested.\n",
      "Sparse is better than dense.\n",
      "Readability counts.\n",
      "Special cases aren't special enough to break the rules.\n",
      "Although practicality beats purity.\n",
      "Errors should never pass silently.\n",
      "Unless explicitly silenced.\n",
      "In the face of ambiguity, refuse the temptation to guess.\n",
      "There should be one-- and preferably only one --obvious way to do it.\n",
      "Although that way may not be obvious at first unless you're Dutch.\n",
      "Now is better than never.\n",
      "Although never is often better than *right* now.\n",
      "If the implementation is hard to explain, it's a bad idea.\n",
      "If the implementation is easy to explain, it may be a good idea.\n",
      "Namespaces are one honking great idea -- let's do more of those!\n"
     ]
    }
   ],
   "source": [
    "# Python 이 추구하고 있는 것들\n",
    "import this"
   ]
  },
  {
   "cell_type": "markdown",
   "id": "14dac923",
   "metadata": {},
   "source": [
    "-----------------------------------------------------------------------"
   ]
  },
  {
   "cell_type": "markdown",
   "id": "e165f531",
   "metadata": {},
   "source": [
    "# A) numpy 라이브러리\n",
    "교재p.2~  교재실습p.74~  \n",
    "\n",
    "Chapter 1. 개요  \n",
    "Chapter 2. 배열 만들기  \n",
    "Chapter 3. 배열 데이터 조회  \n",
    "Chapter 4. 배열 변환과 연산"
   ]
  },
  {
   "cell_type": "markdown",
   "id": "e7a4cfe5",
   "metadata": {},
   "source": [
    "* ()-튜플, {}-집합, []-리스트, {'a':1, 'b':2}-딕셔너리"
   ]
  },
  {
   "cell_type": "code",
   "execution_count": 141,
   "id": "1d509c8e",
   "metadata": {},
   "outputs": [
    {
     "name": "stdout",
     "output_type": "stream",
     "text": [
      "[11, 12, 13, 14, 15, 16, 17, 18, 19, 20, 21, 22, 23, 24, 25, 26, 27, 28, 29, 30]\n"
     ]
    }
   ],
   "source": [
    "# 리스트\n",
    "\n",
    "# a = [1, 2, 3, 4, 5, 6, 7, 8, 9, 10]\n",
    "a = list(range(11, 21)) # [11, 12, ... 20]\n",
    "b = list(range(21, 31)) # [21, 22, ... 30]\n",
    "\n",
    "c = a + b\n",
    "print(c)"
   ]
  },
  {
   "cell_type": "markdown",
   "id": "37de7c0f",
   "metadata": {},
   "source": [
    "→ 리스트 끼리 더해서 보고 싶은데 결과가 두 리스트를 나열해 놓은 거 처럼 나옴"
   ]
  },
  {
   "cell_type": "markdown",
   "id": "884f3a48",
   "metadata": {},
   "source": [
    "이때, numpy라이브러리의 배열을 통해 리스트 끼리 계산을 가능하게 해줌"
   ]
  },
  {
   "cell_type": "code",
   "execution_count": 146,
   "id": "127cc25f",
   "metadata": {},
   "outputs": [
    {
     "name": "stdout",
     "output_type": "stream",
     "text": [
      "[32 34 36 38 40 42 44 46 48 50]\n"
     ]
    }
   ],
   "source": [
    "# 라이브러리 불러오기\n",
    "import numpy as np\n",
    "a = np.array(a) # [11 12 13 14 15 16 17 18 19 20]\n",
    "b = np.array(b) # [21 22 23 24 25 26 27 28 29 30]\n",
    "\n",
    "# 요소 사이 연산\n",
    "c = a + b\n",
    "print(c) # [32 34 36 38 40 42 44 46 48 50]"
   ]
  },
  {
   "cell_type": "code",
   "execution_count": 148,
   "id": "fe50d213",
   "metadata": {},
   "outputs": [
    {
     "name": "stdout",
     "output_type": "stream",
     "text": [
      "[12 14 16 18 20]\n"
     ]
    }
   ],
   "source": [
    "# 조건 조회 - a 에서 짝수 만 보자\n",
    "d = a[ a % 2 == 0 ]\n",
    "print(d) # [12 14 16 18 20]"
   ]
  },
  {
   "cell_type": "markdown",
   "id": "ae2568f2",
   "metadata": {},
   "source": [
    "   리스트의 불편함을 편리하게 해주는 것 : 배열  \n",
    "→ 수치연산을 위해  \n",
    "    1) 배열이 필요한 것을 살펴 보았음.   \n",
    "    2) numpy라이브러리 여서 import 로 numpy 를 불러왔다   \n",
    "\n",
    "* 배열 단점 : 배열은 한 가지 형태 밖에 가지지 못한다 ex) 리스트, 튜플, ..."
   ]
  },
  {
   "cell_type": "markdown",
   "id": "febf737a",
   "metadata": {},
   "source": [
    "-----------------------------------------------------------------------"
   ]
  },
  {
   "cell_type": "markdown",
   "id": "05c2faca",
   "metadata": {},
   "source": [
    "## Chapter 2.  배열 만들기"
   ]
  },
  {
   "cell_type": "code",
   "execution_count": null,
   "id": "457b6e1d",
   "metadata": {},
   "outputs": [],
   "source": [
    "# 리스트 만들기\n",
    "a = list(range(11, 21)) # [11, 12, ... 20]\n",
    "b = list(range(21, 31)) # [21, 22, ... 30]\n",
    "c = list(range(31, 41)) # [31, 32, ... 40]\n",
    "\n",
    "\n",
    "# 라이브러리 불러오기\n",
    "import numpy as np # numpy라이브러리: 수치데이터를 처리하는 라이브러리\n",
    "\n",
    "\n",
    "# 1차원 배열 만들기\n",
    "arr1 = np.array(a) # [11 12 13 14 15 16 17 18 19 20] ← 중간에 ,(콤마)가 없는게 나는 배열입니다 라고 알려주는 거다!"
   ]
  },
  {
   "cell_type": "markdown",
   "id": "4109932f",
   "metadata": {},
   "source": [
    "### ★ 2차원 배열 만들기 ★  \n",
    "List of List == 리스트를 리스트로 만든 리스트 == 리스트가 리스트를 요소로 가지고 있는 것"
   ]
  },
  {
   "cell_type": "code",
   "execution_count": 158,
   "id": "618102a0",
   "metadata": {},
   "outputs": [
    {
     "name": "stdout",
     "output_type": "stream",
     "text": [
      "[1, 2, 3, 4]\n",
      "1\n",
      "3\n"
     ]
    }
   ],
   "source": [
    "# List of List\n",
    "a = [[1, 2, 3, 4], [1, 2, 3]]\n",
    "print(a[0]) # [1, 2, 3, 4]\n",
    "print(a[0][0]) # 1\n",
    "print(a[1][2]) # 3"
   ]
  },
  {
   "cell_type": "code",
   "execution_count": null,
   "id": "f3d60521",
   "metadata": {},
   "outputs": [],
   "source": [
    "# 2차원 배열 만들기\n",
    "d = [a, b, c] # [[11, 12, 13, 14, 15, 16, 17, 18, 19, 20], \n",
    "              #  [21, 22, 23, 24, 25, 26, 27, 28, 29, 30], \n",
    "              # [31, 32, 33, 34, 35, 36, 37, 38, 39, 40]]\n",
    "        \n",
    "## 2차원 리스트로 2차원 배열만들기 ##\n",
    "arr2 = np.array(d)\n",
    "print(arr2) # [[11 12 13 14 15 16 17 18 19 20]\n",
    "            # [21 22 23 24 25 26 27 28 29 30]\n",
    "            # [31 32 33 34 35 36 37 38 39 40]]"
   ]
  },
  {
   "cell_type": "code",
   "execution_count": null,
   "id": "8a44bb58",
   "metadata": {},
   "outputs": [],
   "source": [
    "# 3차원 배열\n",
    "e = [d, d]\n",
    "arr3 = np.array(e)\n",
    "print(arr3) # [[[11 12 13 14 15 16 17 18 19 20]\n",
    "            #   [21 22 23 24 25 26 27 28 29 30]\n",
    "            #   [31 32 33 34 35 36 37 38 39 40]]\n",
    "\n",
    "            #  [[11 12 13 14 15 16 17 18 19 20]\n",
    "            #   [21 22 23 24 25 26 27 28 29 30]\n",
    "            #   [31 32 33 34 35 36 37 38 39 40]]]"
   ]
  },
  {
   "cell_type": "markdown",
   "id": "f0e93d71",
   "metadata": {},
   "source": [
    "-----------------------------------------------------------------------"
   ]
  },
  {
   "cell_type": "markdown",
   "id": "cbad78ba",
   "metadata": {},
   "source": [
    "# B) Pandas 라이브러리\n",
    "교재p.23~ 교재실습p.86~\n",
    "\n",
    "Chapter 1. 데이터프레임 만들기  \n",
    "Chapter 2. 데이터프레임 탐색  \n",
    "Chapter 3. 데이터프레임 조회  \n",
    "Chapter 5. 데이터프레임 집계  \n",
    "Chapter 6. 데이터프레임 변경 1, 2, 3"
   ]
  },
  {
   "cell_type": "code",
   "execution_count": 161,
   "id": "93c193b9",
   "metadata": {},
   "outputs": [
    {
     "name": "stdout",
     "output_type": "stream",
     "text": [
      "     PassengerId  Survived  Pclass  \\\n",
      "0              1         0       3   \n",
      "1              2         1       1   \n",
      "2              3         1       3   \n",
      "3              4         1       1   \n",
      "4              5         0       3   \n",
      "..           ...       ...     ...   \n",
      "886          887         0       2   \n",
      "887          888         1       1   \n",
      "888          889         0       3   \n",
      "889          890         1       1   \n",
      "890          891         0       3   \n",
      "\n",
      "                                                  Name     Sex   Age  SibSp  \\\n",
      "0                              Braund, Mr. Owen Harris    male  22.0      1   \n",
      "1    Cumings, Mrs. John Bradley (Florence Briggs Th...  female  38.0      1   \n",
      "2                               Heikkinen, Miss. Laina  female  26.0      0   \n",
      "3         Futrelle, Mrs. Jacques Heath (Lily May Peel)  female  35.0      1   \n",
      "4                             Allen, Mr. William Henry    male  35.0      0   \n",
      "..                                                 ...     ...   ...    ...   \n",
      "886                              Montvila, Rev. Juozas    male  27.0      0   \n",
      "887                       Graham, Miss. Margaret Edith  female  19.0      0   \n",
      "888           Johnston, Miss. Catherine Helen \"Carrie\"  female   NaN      1   \n",
      "889                              Behr, Mr. Karl Howell    male  26.0      0   \n",
      "890                                Dooley, Mr. Patrick    male  32.0      0   \n",
      "\n",
      "     Parch            Ticket     Fare Cabin Embarked  \n",
      "0        0         A/5 21171   7.2500   NaN        S  \n",
      "1        0          PC 17599  71.2833   C85        C  \n",
      "2        0  STON/O2. 3101282   7.9250   NaN        S  \n",
      "3        0            113803  53.1000  C123        S  \n",
      "4        0            373450   8.0500   NaN        S  \n",
      "..     ...               ...      ...   ...      ...  \n",
      "886      0            211536  13.0000   NaN        S  \n",
      "887      0            112053  30.0000   B42        S  \n",
      "888      2        W./C. 6607  23.4500   NaN        S  \n",
      "889      0            111369  30.0000  C148        C  \n",
      "890      0            370376   7.7500   NaN        Q  \n",
      "\n",
      "[891 rows x 12 columns]\n"
     ]
    }
   ],
   "source": [
    "# 라이브러리 불러오기\n",
    "import pandas as pd\n",
    "\n",
    "# 데이터 불러오기\n",
    "path = 'https://bit.ly/TitanicFile'\n",
    "\n",
    "# df 데이터프레임 만들기\n",
    "df = pd.read_csv(path)\n",
    "\n",
    "# 데이터 확인\n",
    "print(df)"
   ]
  },
  {
   "cell_type": "code",
   "execution_count": 3,
   "id": "50a9a138",
   "metadata": {},
   "outputs": [
    {
     "data": {
      "image/png": "[encoded data removed]",
      "text/plain": [
       "<Figure size 432x288 with 1 Axes>"
      ]
     },
     "metadata": {
      "needs_background": "light"
     },
     "output_type": "display_data"
    }
   ],
   "source": [
    "# 라이브러리 불러오기\n",
    "import pandas as pd\n",
    "\n",
    "# 데이터 불러오기\n",
    "path = 'https://bit.ly/TitanicFile'\n",
    "df = pd.read_csv(path)\n",
    "\n",
    "# 시각화   \n",
    "import matplotlib.pyplot as plt\n",
    "plt.plot(df['Age'])\n",
    "plt.savefig('test.png')"
   ]
  },
  {
   "cell_type": "markdown",
   "id": "df1debb6",
   "metadata": {},
   "source": [
    "-----------------------------------------------------------------------"
   ]
  },
  {
   "cell_type": "code",
   "execution_count": 6,
   "id": "6c401f7b",
   "metadata": {},
   "outputs": [],
   "source": [
    "pd.DataFrame?"
   ]
  },
  {
   "cell_type": "markdown",
   "id": "418fc050",
   "metadata": {},
   "source": [
    "## 데이터프레임 만들기 - 리스트로 데이터 프레임 만들기"
   ]
  },
  {
   "cell_type": "code",
   "execution_count": 11,
   "id": "92aaac78",
   "metadata": {},
   "outputs": [
    {
     "name": "stdout",
     "output_type": "stream",
     "text": [
      "[[11, 12, 13, 14, 15, 16, 17, 18, 19, 20], [21, 22, 23, 24, 25, 26, 27, 28, 29, 30], [31, 32, 33, 34, 35, 36, 37, 38, 39, 40]]\n"
     ]
    }
   ],
   "source": [
    "## 리스트 만들기 ##\n",
    "a = list(range(11, 21))\n",
    "b = list(range(21, 31))\n",
    "c = list(range(31, 41))\n",
    "d = [a, b, c]\n",
    "\n",
    "print(d)"
   ]
  },
  {
   "cell_type": "code",
   "execution_count": 8,
   "id": "7cee04d4",
   "metadata": {
    "scrolled": true
   },
   "outputs": [
    {
     "name": "stdout",
     "output_type": "stream",
     "text": [
      "       a   b   c   d   e   f   g   h   i   j\n",
      "kor   11  12  13  14  15  16  17  18  19  20\n",
      "eng   21  22  23  24  25  26  27  28  29  30\n",
      "math  31  32  33  34  35  36  37  38  39  40\n"
     ]
    }
   ],
   "source": [
    "## 데이터 프레임 만들기 ##\n",
    "\n",
    "# 컬럼명 넣기\n",
    "cols = list('abcdefghij') # 연속된 문자를 자를 때는 리스트에 넣으면 된다\n",
    "\n",
    "# index 이름 넣기\n",
    "idx = ['kor', 'eng', 'math']\n",
    "\n",
    "# Data 준 경우 : score = pd.DataFrame(data = d)\n",
    "score = pd.DataFrame(data=d, index=idx, columns=cols)\n",
    "\n",
    "print(score)"
   ]
  },
  {
   "cell_type": "markdown",
   "id": "666f7712",
   "metadata": {},
   "source": [
    "팁! 괄호안에서는 띄어쓰기하고  \n",
    "괄호 밖에서는 띄어쓰기하자"
   ]
  },
  {
   "cell_type": "markdown",
   "id": "02eca65c",
   "metadata": {},
   "source": [
    "-----------------------------------------------------------------------"
   ]
  },
  {
   "cell_type": "markdown",
   "id": "a0db80c4",
   "metadata": {},
   "source": [
    "## csv파일 불러와서 데이터 읽어오기 → 데이터프레임 만들기"
   ]
  },
  {
   "cell_type": "markdown",
   "id": "21ec699e",
   "metadata": {},
   "source": [
    "31페이지 ~"
   ]
  },
  {
   "cell_type": "markdown",
   "id": "d27572ee",
   "metadata": {},
   "source": [
    "* 대량의 데이터를 주고 받을 때는 csv파일을 보통 사용한다."
   ]
  },
  {
   "cell_type": "code",
   "execution_count": 118,
   "id": "ab374afa",
   "metadata": {},
   "outputs": [
    {
     "name": "stdout",
     "output_type": "stream",
     "text": [
      "    year  household  k_male  k_female  f_male  f_female\n",
      "0   1981        NaN    4160      4191     NaN       NaN\n",
      "1   1982        NaN    4160      4191     NaN       NaN\n",
      "2   1983     2116.0    4160      4191     NaN       NaN\n",
      "3   1984     2246.0    4160      4191     NaN       NaN\n",
      "4   1985     2338.0    4788      4838     7.0       6.0\n",
      "5   1986     2428.0    4899      4888     7.0       5.0\n",
      "6   1987     2518.0    5000      4979     6.0       5.0\n",
      "7   1988     2658.0    5156      5120     5.0       5.0\n",
      "8   1989     2817.0    5305      5261     6.0       5.0\n",
      "9   1990     2820.0    5321      5282     5.0       4.0\n",
      "10  1991     3330.0    5468      5405    18.0      14.0\n",
      "11  1992     3383.0    5500      5435    19.0      16.0\n",
      "12  1993     3431.0    5478      5412    19.0      17.0\n",
      "13  1994     3456.0    5409      5351    21.0      19.0\n",
      "14  1995     3448.0    5302      5249    24.0      21.0\n",
      "15  1996     3457.0    5231      5187    27.0      25.0\n",
      "16  1997     3499.0    5187      5150    28.0      25.0\n",
      "17  1998     3459.0    5147      5124    27.0      24.0\n",
      "18  1999     3491.0    5141      5123    30.0      28.0\n",
      "19  2000     3540.0    5167      5145    32.0      30.0\n",
      "20  2001     3570.0    5142      5122    34.0      34.0\n",
      "21  2002     3624.0    5109      5098    36.0      37.0\n",
      "22  2003     3715.0    5085      5089    49.0      54.0\n",
      "23  2004     3780.0    5075      5098    54.0      61.0\n",
      "24  2005     3871.0    5062      5105    61.0      68.0\n",
      "25  2006     3979.0    5062      5119    83.0      92.0\n",
      "26  2007     4046.0    5063      5130   111.0     118.0\n",
      "27  2008     4098.0    5062      5139   123.0     132.0\n",
      "28  2009     4117.0    5059      5149   122.0     134.0\n",
      "29  2010     4224.0    5111      5201   125.0     137.0\n",
      "30  2011     4193.0    5074      5176   135.0     145.0\n",
      "31  2012     4178.0    5041      5154   118.0     129.0\n",
      "32  2013     4182.0    5008      5136   118.0     126.0\n",
      "33  2014     4194.0    4980      5123   129.0     137.0\n",
      "34  2015     4190.0    4931      5091   133.0     142.0\n",
      "35  2016     4190.0    4877      5054   131.0     143.0\n",
      "36  2017     4220.0    4830      5027   128.0     140.0\n",
      "37  2018     4264.0    4774      4992   137.0     147.0\n",
      "38  2019     4328.0    4744      4985   134.0     148.0\n",
      "39  2020     4418.0    4702      4967   115.0     128.0\n"
     ]
    }
   ],
   "source": [
    "# 데이터 읽어오기\n",
    "path = 'https://bit.ly/PopFile' # 서울시 인구 데이터\n",
    "pop = pd.read_csv(path)\n",
    "\n",
    "# 데이터 확인\n",
    "print(pop) "
   ]
  },
  {
   "cell_type": "markdown",
   "id": "735d3dab",
   "metadata": {},
   "source": [
    "→ 데이터가 너무 많기 때문에 \n",
    "데이터를 부분적으로 보고 싶다"
   ]
  },
  {
   "cell_type": "code",
   "execution_count": 121,
   "id": "65d9f25c",
   "metadata": {},
   "outputs": [
    {
     "name": "stdout",
     "output_type": "stream",
     "text": [
      "   year  household  k_male  k_female  f_male  f_female\n",
      "0  1981        NaN    4160      4191     NaN       NaN\n",
      "1  1982        NaN    4160      4191     NaN       NaN\n",
      "2  1983     2116.0    4160      4191     NaN       NaN\n",
      "3  1984     2246.0    4160      4191     NaN       NaN\n",
      "4  1985     2338.0    4788      4838     7.0       6.0\n",
      "    year  household  k_male  k_female  f_male  f_female\n",
      "35  2016     4190.0    4877      5054   131.0     143.0\n",
      "36  2017     4220.0    4830      5027   128.0     140.0\n",
      "37  2018     4264.0    4774      4992   137.0     147.0\n",
      "38  2019     4328.0    4744      4985   134.0     148.0\n",
      "39  2020     4418.0    4702      4967   115.0     128.0\n"
     ]
    }
   ],
   "source": [
    "# 데이터의 앞부분을 head() 로 보자.\n",
    "## 데이터프레임.head() ##\n",
    "print(pop.head(5))\n",
    "\n",
    "# 가장 나중 자료를 보고 싶을 때는 tail() 로 보자.\n",
    "## 데이터프레임.tail() ##\n",
    "print(pop.tail(5))"
   ]
  },
  {
   "cell_type": "code",
   "execution_count": 35,
   "id": "2b59a314",
   "metadata": {
    "scrolled": true
   },
   "outputs": [
    {
     "name": "stdout",
     "output_type": "stream",
     "text": [
      "     month  temp  max_temp  ext_max_temp  min_temp  ext_min_temp\n",
      "0  2005-01  -2.5       1.5           7.3      -6.2         -11.0\n",
      "1  2005-02  -1.9       2.2          10.5      -5.5         -13.1\n",
      "2  2005-03   4.1       8.8          17.6       0.2          -6.5\n",
      "3  2005-04  13.2      18.1          29.8       8.9           4.1\n",
      "4  2005-05  17.7      22.9          30.2      13.0           6.3\n"
     ]
    }
   ],
   "source": [
    "# 데이터 읽어오기\n",
    "path = 'https://bit.ly/WeatherFile' # 서울시 날씨 데이터\n",
    "temp = pd.read_csv(path)\n",
    "\n",
    "# 데이터 확인\n",
    "print(temp.head(5))"
   ]
  },
  {
   "cell_type": "markdown",
   "id": "d95cb674",
   "metadata": {},
   "source": [
    "데이터를 확인해보니   \n",
    "→ 'month'컬럼이 인덱스로 와도 되겠다.  \n",
    "→ 'month'컬럼을 인덱스를 변경해보자!"
   ]
  },
  {
   "cell_type": "markdown",
   "id": "c5bea39e",
   "metadata": {},
   "source": [
    "# 인덱스 변경 : 데이터프레임.set_index('변수명', inplace=False)  \n",
    "inplace=False 가 디폴트 값  \n",
    "→ inplace=False 가 디폴트 값이기 때문에  \n",
    "→ inplace=True 로 해야 데이터에 반영이 된다"
   ]
  },
  {
   "cell_type": "code",
   "execution_count": 36,
   "id": "9c5102b8",
   "metadata": {},
   "outputs": [
    {
     "name": "stdout",
     "output_type": "stream",
     "text": [
      "         temp  max_temp  ext_max_temp  min_temp  ext_min_temp\n",
      "month                                                        \n",
      "2005-01  -2.5       1.5           7.3      -6.2         -11.0\n",
      "2005-02  -1.9       2.2          10.5      -5.5         -13.1\n",
      "2005-03   4.1       8.8          17.6       0.2          -6.5\n",
      "2005-04  13.2      18.1          29.8       8.9           4.1\n",
      "2005-05  17.7      22.9          30.2      13.0           6.3\n",
      "         temp  max_temp  ext_max_temp  min_temp  ext_min_temp\n",
      "month                                                        \n",
      "2020-08  26.5      29.3          34.5      24.4          21.5\n",
      "2020-09  21.4      25.6          29.5      18.0          13.6\n",
      "2020-10  14.3      19.5          23.6       9.6           3.2\n",
      "2020-11   8.0      12.6          20.0       4.0          -3.6\n",
      "2020-12  -0.3       3.9          11.4      -4.2         -12.9\n"
     ]
    }
   ],
   "source": [
    "# 인덱스 변경\n",
    "temp.set_index('month', inplace=True) \n",
    "\n",
    "# 확인\n",
    "print(temp.head(5))\n",
    "print(temp.tail(5))"
   ]
  },
  {
   "cell_type": "markdown",
   "id": "3f040445",
   "metadata": {},
   "source": [
    "'month'를 인덱스로 변경했지만  \n",
    "→ 첫번째 줄이 비어있으니까 보기가 싫다  \n",
    "\n",
    "→ 'month' 인덱스를 없애 버리자 : 데이터프레임.index.name = None"
   ]
  },
  {
   "cell_type": "code",
   "execution_count": 79,
   "id": "615ea418",
   "metadata": {},
   "outputs": [
    {
     "name": "stdout",
     "output_type": "stream",
     "text": [
      "         temp  max_temp  ext_max_temp  min_temp  ext_min_temp\n",
      "2005-01  -2.5       1.5           7.3      -6.2         -11.0\n",
      "2005-02  -1.9       2.2          10.5      -5.5         -13.1\n",
      "2005-03   4.1       8.8          17.6       0.2          -6.5\n",
      "2005-04  13.2      18.1          29.8       8.9           4.1\n",
      "2005-05  17.7      22.9          30.2      13.0           6.3\n",
      "         temp  max_temp  ext_max_temp  min_temp  ext_min_temp\n",
      "2005-01  -2.5       1.5           7.3      -6.2         -11.0\n",
      "2005-02  -1.9       2.2          10.5      -5.5         -13.1\n",
      "2005-03   4.1       8.8          17.6       0.2          -6.5\n",
      "2005-04  13.2      18.1          29.8       8.9           4.1\n",
      "2005-05  17.7      22.9          30.2      13.0           6.3\n",
      "         temp  max_temp  ext_max_temp  min_temp  ext_min_temp\n",
      "2020-08  26.5      29.3          34.5      24.4          21.5\n",
      "2020-09  21.4      25.6          29.5      18.0          13.6\n",
      "2020-10  14.3      19.5          23.6       9.6           3.2\n",
      "2020-11   8.0      12.6          20.0       4.0          -3.6\n",
      "2020-12  -0.3       3.9          11.4      -4.2         -12.9\n"
     ]
    }
   ],
   "source": [
    "temp.index.name = None\n",
    "\n",
    "print(temp.head(5))\n",
    "print(temp.head()) # head() 에 숫자를 넣지 않으면 5가 디폴트값으로 들어간다\n",
    "print(temp.tail(5))"
   ]
  },
  {
   "cell_type": "markdown",
   "id": "efd8fa21",
   "metadata": {},
   "source": [
    "# 정리하면?"
   ]
  },
  {
   "cell_type": "markdown",
   "id": "55cde046",
   "metadata": {},
   "source": [
    "1) csv 파일 불러오고  \n",
    "2) 인덱스 설정"
   ]
  },
  {
   "cell_type": "code",
   "execution_count": 38,
   "id": "3d776f1f",
   "metadata": {},
   "outputs": [
    {
     "name": "stdout",
     "output_type": "stream",
     "text": [
      "         temp  max_temp  ext_max_temp  min_temp  ext_min_temp\n",
      "2005-01  -2.5       1.5           7.3      -6.2         -11.0\n",
      "2005-02  -1.9       2.2          10.5      -5.5         -13.1\n",
      "2005-03   4.1       8.8          17.6       0.2          -6.5\n",
      "2005-04  13.2      18.1          29.8       8.9           4.1\n",
      "2005-05  17.7      22.9          30.2      13.0           6.3\n",
      "         temp  max_temp  ext_max_temp  min_temp  ext_min_temp\n",
      "2020-08  26.5      29.3          34.5      24.4          21.5\n",
      "2020-09  21.4      25.6          29.5      18.0          13.6\n",
      "2020-10  14.3      19.5          23.6       9.6           3.2\n",
      "2020-11   8.0      12.6          20.0       4.0          -3.6\n",
      "2020-12  -0.3       3.9          11.4      -4.2         -12.9\n"
     ]
    }
   ],
   "source": [
    "# 데이터 읽어오기\n",
    "path = 'https://bit.ly/WeatherFile' # 서울시 날씨 데이터\n",
    "temp = pd.read_csv(path) # csv 파일 불러오고 \n",
    "\n",
    "# 인덱스 변경\n",
    "temp.set_index('month', inplace=True) # 인덱스 설정\n",
    "temp.index.name = None\n",
    "\n",
    "# 데이터 확인\n",
    "print(temp.head(5))\n",
    "print(temp.tail(5))"
   ]
  },
  {
   "cell_type": "markdown",
   "id": "cae9237c",
   "metadata": {},
   "source": [
    "1) csv 파일 불러올때, 처음부터 index 설정"
   ]
  },
  {
   "cell_type": "code",
   "execution_count": 40,
   "id": "b6828381",
   "metadata": {},
   "outputs": [
    {
     "name": "stdout",
     "output_type": "stream",
     "text": [
      "         temp  max_temp  ext_max_temp  min_temp  ext_min_temp\n",
      "2005-01  -2.5       1.5           7.3      -6.2         -11.0\n",
      "2005-02  -1.9       2.2          10.5      -5.5         -13.1\n",
      "2005-03   4.1       8.8          17.6       0.2          -6.5\n",
      "2005-04  13.2      18.1          29.8       8.9           4.1\n",
      "2005-05  17.7      22.9          30.2      13.0           6.3\n"
     ]
    }
   ],
   "source": [
    "# 데이터 읽어오기\n",
    "path = 'https://bit.ly/WeatherFile' # 서울시 날씨 데이터\n",
    "temp = pd.read_csv(path, index_col = 'month') # csv파일 불러올 때, 처음부터 index 설정하는 방법\n",
    "temp.index.name = None\n",
    "\n",
    "# 확인\n",
    "print(temp.head(5))"
   ]
  },
  {
   "cell_type": "markdown",
   "id": "8a393351",
   "metadata": {},
   "source": [
    "-----------------------------------------------------------------------"
   ]
  },
  {
   "cell_type": "markdown",
   "id": "8fda29b0",
   "metadata": {},
   "source": [
    "Chapter2.  데이터프레임 탐색  \n",
    "1) 데이터 탐색  \n",
    "2) 데이터 정렬  \n",
    "3) 고유값 확인  \n",
    "4) 기본 집계 메소드  \n",
    "5) 시각화로 데이터 탐색"
   ]
  },
  {
   "cell_type": "markdown",
   "id": "8a2000d3",
   "metadata": {},
   "source": [
    "## Chapter 2. 데이터프레임 탐색 -  1) 데이터 탐색"
   ]
  },
  {
   "cell_type": "code",
   "execution_count": 122,
   "id": "422c43f5",
   "metadata": {},
   "outputs": [
    {
     "name": "stdout",
     "output_type": "stream",
     "text": [
      "   total_bill   tip     sex smoker  day    time  size\n",
      "0       16.99  1.01  Female     No  Sun  Dinner     2\n",
      "1       10.34  1.66    Male     No  Sun  Dinner     3\n",
      "2       21.01  3.50    Male     No  Sun  Dinner     3\n",
      "3       23.68  3.31    Male     No  Sun  Dinner     2\n",
      "4       24.59  3.61  Female     No  Sun  Dinner     4\n"
     ]
    }
   ],
   "source": [
    "# 라이브러리 불러오기\n",
    "import pandas as pd\n",
    "\n",
    "# 데이터 읽어오기\n",
    "path = 'https://bit.ly/TipsFile' # 팁을 주는 데이터\n",
    "tip = pd.read_csv(path)\n",
    "\n",
    "# 데이터 확인\n",
    "print(tip.head(5))"
   ]
  },
  {
   "cell_type": "markdown",
   "id": "ccef489a",
   "metadata": {},
   "source": [
    "* shape 속성: 데이터프레임 모양 확인 → (행수, 열수) 형태"
   ]
  },
  {
   "cell_type": "code",
   "execution_count": 42,
   "id": "dc0f12de",
   "metadata": {},
   "outputs": [
    {
     "data": {
      "text/plain": [
       "(244, 7)"
      ]
     },
     "execution_count": 42,
     "metadata": {},
     "output_type": "execute_result"
    }
   ],
   "source": [
    "tip.shape"
   ]
  },
  {
   "cell_type": "code",
   "execution_count": 45,
   "id": "d1c85554",
   "metadata": {},
   "outputs": [
    {
     "name": "stdout",
     "output_type": "stream",
     "text": [
      "244\n",
      "7\n"
     ]
    }
   ],
   "source": [
    "# 튜플에서 인덱싱\n",
    "\n",
    "print(tip.shape[0])\n",
    "print(tip.shape[1])"
   ]
  },
  {
   "cell_type": "markdown",
   "id": "0a0822cb",
   "metadata": {},
   "source": [
    "* index 속성: 인덱스 정보 확인"
   ]
  },
  {
   "cell_type": "code",
   "execution_count": 52,
   "id": "61a0187d",
   "metadata": {},
   "outputs": [
    {
     "name": "stdout",
     "output_type": "stream",
     "text": [
      "RangeIndex(start=0, stop=244, step=1)\n"
     ]
    }
   ],
   "source": [
    "print(tip.index)"
   ]
  },
  {
   "cell_type": "markdown",
   "id": "4899f2e4",
   "metadata": {},
   "source": [
    "* columns 속성: 열 이름 확인"
   ]
  },
  {
   "cell_type": "code",
   "execution_count": 50,
   "id": "31400db5",
   "metadata": {},
   "outputs": [
    {
     "name": "stdout",
     "output_type": "stream",
     "text": [
      "Index(['total_bill', 'tip', 'sex', 'smoker', 'day', 'time', 'size'], dtype='object')\n"
     ]
    }
   ],
   "source": [
    "print(tip.columns)"
   ]
  },
  {
   "cell_type": "markdown",
   "id": "d750f2d5",
   "metadata": {},
   "source": [
    "* values 속성: 값 확인"
   ]
  },
  {
   "cell_type": "code",
   "execution_count": 51,
   "id": "1418ce9f",
   "metadata": {
    "scrolled": true
   },
   "outputs": [
    {
     "name": "stdout",
     "output_type": "stream",
     "text": [
      "[[16.99 1.01 'Female' ... 'Sun' 'Dinner' 2]\n",
      " [10.34 1.66 'Male' ... 'Sun' 'Dinner' 3]\n",
      " [21.01 3.5 'Male' ... 'Sun' 'Dinner' 3]\n",
      " ...\n",
      " [22.67 2.0 'Male' ... 'Sat' 'Dinner' 2]\n",
      " [17.82 1.75 'Male' ... 'Sat' 'Dinner' 2]\n",
      " [18.78 3.0 'Female' ... 'Thur' 'Dinner' 2]]\n"
     ]
    }
   ],
   "source": [
    "print(tip.values)"
   ]
  },
  {
   "cell_type": "markdown",
   "id": "704b7fcd",
   "metadata": {},
   "source": [
    "* dtypes 속성: 열 확인"
   ]
  },
  {
   "cell_type": "code",
   "execution_count": 54,
   "id": "01a4e1e5",
   "metadata": {},
   "outputs": [
    {
     "name": "stdout",
     "output_type": "stream",
     "text": [
      "total_bill    float64\n",
      "tip           float64\n",
      "sex            object\n",
      "smoker         object\n",
      "day            object\n",
      "time           object\n",
      "size            int64\n",
      "dtype: object\n"
     ]
    }
   ],
   "source": [
    "print(tip.dtypes)"
   ]
  },
  {
   "cell_type": "markdown",
   "id": "6dfcb03f",
   "metadata": {},
   "source": [
    "# info 함수: 인덱스, 열, 값 개수, 데이터 형식 정보 등 확인 ★★★  \n",
    " info() 만 있으면 전체적으로 다 볼 수 있으니까  \n",
    "   앞으로 info() 를 쓰도록 하자!"
   ]
  },
  {
   "cell_type": "code",
   "execution_count": 56,
   "id": "28badbc4",
   "metadata": {
    "scrolled": true
   },
   "outputs": [
    {
     "name": "stdout",
     "output_type": "stream",
     "text": [
      "<class 'pandas.core.frame.DataFrame'>\n",
      "RangeIndex: 244 entries, 0 to 243\n",
      "Data columns (total 7 columns):\n",
      " #   Column      Non-Null Count  Dtype  \n",
      "---  ------      --------------  -----  \n",
      " 0   total_bill  244 non-null    float64\n",
      " 1   tip         244 non-null    float64\n",
      " 2   sex         244 non-null    object \n",
      " 3   smoker      244 non-null    object \n",
      " 4   day         244 non-null    object \n",
      " 5   time        244 non-null    object \n",
      " 6   size        244 non-null    int64  \n",
      "dtypes: float64(2), int64(1), object(4)\n",
      "memory usage: 13.5+ KB\n",
      "None\n"
     ]
    }
   ],
   "source": [
    "print(tip.info())"
   ]
  },
  {
   "cell_type": "markdown",
   "id": "e96e4c97",
   "metadata": {},
   "source": [
    "→ object는 str로 보면 된다."
   ]
  },
  {
   "cell_type": "markdown",
   "id": "a1be0492",
   "metadata": {},
   "source": [
    "# describe 메소드: 기초 통계 정보 확인 ★★★"
   ]
  },
  {
   "cell_type": "code",
   "execution_count": 59,
   "id": "0f78e016",
   "metadata": {},
   "outputs": [
    {
     "name": "stdout",
     "output_type": "stream",
     "text": [
      "       total_bill         tip        size\n",
      "count  244.000000  244.000000  244.000000\n",
      "mean    19.785943    2.998279    2.569672\n",
      "std      8.902412    1.383638    0.951100\n",
      "min      3.070000    1.000000    1.000000\n",
      "25%     13.347500    2.000000    2.000000\n",
      "50%     17.795000    2.900000    2.000000\n",
      "75%     24.127500    3.562500    3.000000\n",
      "max     50.810000   10.000000    6.000000\n"
     ]
    }
   ],
   "source": [
    "print(tip.describe())"
   ]
  },
  {
   "cell_type": "markdown",
   "id": "fbf81b8d",
   "metadata": {},
   "source": [
    "→ 표준편차(std)가 작으면 값이 평균(mean)에 가깝다."
   ]
  },
  {
   "cell_type": "markdown",
   "id": "81e5ae24",
   "metadata": {},
   "source": [
    "-----------------------------------------------------------------------"
   ]
  },
  {
   "cell_type": "markdown",
   "id": "e30b4869",
   "metadata": {},
   "source": [
    "# 2) 데이터 정렬 : 데이터프레임.sort_value(by='컬럼명', asending=True)  \n",
    "→ by='컬럼명' 으로 정렬하겠다  \n",
    "→ ascending=True 가 디폴트 값\n",
    "* 오름차순(ascending=True) : 작은 값 부터 출력  \n",
    "* 내림차순(ascending=False) : 큰 값 부터 출력 "
   ]
  },
  {
   "cell_type": "code",
   "execution_count": 60,
   "id": "8f02a6d8",
   "metadata": {},
   "outputs": [
    {
     "name": "stdout",
     "output_type": "stream",
     "text": [
      "   total_bill   tip     sex smoker  day    time  size\n",
      "0       16.99  1.01  Female     No  Sun  Dinner     2\n",
      "1       10.34  1.66    Male     No  Sun  Dinner     3\n",
      "2       21.01  3.50    Male     No  Sun  Dinner     3\n",
      "3       23.68  3.31    Male     No  Sun  Dinner     2\n",
      "4       24.59  3.61  Female     No  Sun  Dinner     4\n"
     ]
    }
   ],
   "source": [
    "# 데이터 확인\n",
    "print(tip.head()) # == print(tip.head(5))"
   ]
  },
  {
   "cell_type": "markdown",
   "id": "90255239",
   "metadata": {},
   "source": [
    "→ 범주형 데이터  \n",
    ": 어떤 값이 몇 개 있는지 궁금해야 한다."
   ]
  },
  {
   "cell_type": "code",
   "execution_count": 116,
   "id": "21d95b20",
   "metadata": {},
   "outputs": [
    {
     "name": "stdout",
     "output_type": "stream",
     "text": [
      "     total_bill    tip   sex smoker  day    time  size\n",
      "170       50.81  10.00  Male    Yes  Sat  Dinner     3\n",
      "212       48.33   9.00  Male     No  Sat  Dinner     4\n",
      "59        48.27   6.73  Male     No  Sat  Dinner     4\n",
      "156       48.17   5.00  Male     No  Sun  Dinner     6\n",
      "182       45.35   3.50  Male    Yes  Sun  Dinner     3\n"
     ]
    }
   ],
   "source": [
    "# 정렬하기1\n",
    "\n",
    "## head() 사용법1 → sort_values().head()\n",
    "# ascending = False : 큰 값부터 출력  = 내림차순\n",
    "tmp = tip.sort_values(by='total_bill', ascending=False).head()\n",
    "\n",
    "print(tmp)"
   ]
  },
  {
   "cell_type": "code",
   "execution_count": 94,
   "id": "a575f54b",
   "metadata": {
    "scrolled": true
   },
   "outputs": [
    {
     "name": "stdout",
     "output_type": "stream",
     "text": [
      "     total_bill   tip     sex smoker   day    time  size\n",
      "67         3.07  1.00  Female    Yes   Sat  Dinner     1\n",
      "92         5.75  1.00  Female    Yes   Fri  Dinner     2\n",
      "111        7.25  1.00  Female     No   Sat  Dinner     1\n",
      "172        7.25  5.15    Male    Yes   Sun  Dinner     2\n",
      "149        7.51  2.00    Male     No  Thur   Lunch     2\n"
     ]
    }
   ],
   "source": [
    "# ascending = True : 작은 값부터 출력 = 오름차순\n",
    "tmp = tip.sort_values(by='total_bill', ascending=True).head()\n",
    "\n",
    "print(tmp)"
   ]
  },
  {
   "cell_type": "markdown",
   "id": "9742e0d7",
   "metadata": {},
   "source": [
    "→ 인덱스가 필요없으니까 버려보자"
   ]
  },
  {
   "cell_type": "markdown",
   "id": "26712d3c",
   "metadata": {},
   "source": [
    "# 인덱스 초기화: .reset_index(drop=False, inplace=False)  \n",
    "drop=False, inplace=False 가 디폴트 값  \n",
    "    \n",
    "    \n",
    "* drop=True 를 해줘야 기존 인덱스를 버릴 수 있음  \n",
    "* inplace=True 를 해줘야 데이터에 반영이 된다"
   ]
  },
  {
   "cell_type": "code",
   "execution_count": 113,
   "id": "806f0741",
   "metadata": {},
   "outputs": [
    {
     "name": "stdout",
     "output_type": "stream",
     "text": [
      "   total_bill    tip   sex smoker   day    time  size\n",
      "0       50.81  10.00  Male    Yes   Sat  Dinner     3\n",
      "1       48.33   9.00  Male     No   Sat  Dinner     4\n",
      "2       39.42   7.58  Male     No   Sat  Dinner     4\n",
      "3       48.27   6.73  Male     No   Sat  Dinner     4\n",
      "4       34.30   6.70  Male     No  Thur   Lunch     6\n"
     ]
    }
   ],
   "source": [
    "## drop=True 를 해줘야 기존 인덱스를 버릴 수 있음 ##\n",
    "\n",
    "# tip 열을 기준으로 내림차순 정렬해서 상위 5개를 top5 데이터프레임으로 선언\n",
    "top5 = tip.sort_values(by='tip', \n",
    "                       ascending=False).head()\n",
    "\n",
    "# top5 데이터프레임 인덱스 초기화 하기(단, 기존 인덱스 제거)\n",
    "top5.reset_index(drop=True, inplace=True)\n",
    "\n",
    "# top5 데이터 프레임 확인하기\n",
    "print(top5)"
   ]
  },
  {
   "cell_type": "code",
   "execution_count": 124,
   "id": "8baedbef",
   "metadata": {
    "scrolled": true
   },
   "outputs": [
    {
     "name": "stdout",
     "output_type": "stream",
     "text": [
      "   index  total_bill    tip   sex smoker   day    time  size\n",
      "0    170       50.81  10.00  Male    Yes   Sat  Dinner     3\n",
      "1    212       48.33   9.00  Male     No   Sat  Dinner     4\n",
      "2     23       39.42   7.58  Male     No   Sat  Dinner     4\n",
      "3     59       48.27   6.73  Male     No   Sat  Dinner     4\n",
      "4    141       34.30   6.70  Male     No  Thur   Lunch     6\n"
     ]
    }
   ],
   "source": [
    "## drop=False 하면 기존 인덱스가 컬럼으로 들어간다 ##\n",
    "\n",
    "# tip 열을 기준으로 내림차순 정렬해서 상위 5개를 top5 데이터프레임으로 선언\n",
    "top5 = tip.sort_values(by='tip', ascending=False).head()\n",
    "\n",
    "# drop=False를 했기 때문에\n",
    "# → top5 데이터프레임 인덱스는 초기화 됬지만\n",
    "#    기존의 index 가 컬럼으로 들어가는 문제 발생한다.\n",
    "top5.reset_index(drop=False, inplace=True)\n",
    "\n",
    "# top5 데이터프레임 확인하기\n",
    "print(top5)"
   ]
  },
  {
   "cell_type": "code",
   "execution_count": 109,
   "id": "2dd9a616",
   "metadata": {},
   "outputs": [
    {
     "name": "stdout",
     "output_type": "stream",
     "text": [
      "   total_bill    tip     sex smoker   day    time  size\n",
      "0       50.81  10.00    Male    Yes   Sat  Dinner     3\n",
      "1       48.33   9.00    Male     No   Sat  Dinner     4\n",
      "2       48.27   6.73    Male     No   Sat  Dinner     4\n",
      "3       48.17   5.00    Male     No   Sun  Dinner     6\n",
      "4       45.35   3.50    Male    Yes   Sun  Dinner     3\n",
      "5       44.30   2.50  Female    Yes   Sat  Dinner     3\n",
      "6       43.11   5.00  Female    Yes  Thur   Lunch     4\n",
      "7       41.19   5.00    Male     No  Thur   Lunch     5\n",
      "8       40.55   3.00    Male    Yes   Sun  Dinner     2\n",
      "9       40.17   4.73    Male    Yes   Fri  Dinner     4\n"
     ]
    }
   ],
   "source": [
    "# total_bill 별로 내림차순 정렬해서 top10 선언, 인덱스 초기화 해보자!!! #\n",
    "\n",
    "# total_bill 별로 내림차순 정렬해서 top10 선언\n",
    "top_10 = tip.sort_values(by='total_bill',\n",
    "                         ascending=False).head(10) # ascending=False (내림차순)\n",
    "\n",
    "# 인덱스 초기화(drop=True : 기존 인덱스 제거)\n",
    "top_10.reset_index(drop=True, inplace=True)\n",
    "\n",
    "# top_10 데이터프레임 확인\n",
    "print(top_10)"
   ]
  },
  {
   "cell_type": "markdown",
   "id": "f3df57b2",
   "metadata": {},
   "source": [
    "* 시각화"
   ]
  },
  {
   "cell_type": "code",
   "execution_count": 112,
   "id": "d9c40875",
   "metadata": {
    "scrolled": false
   },
   "outputs": [
    {
     "data": {
      "image/png": "[encoded data removed]",
      "text/plain": [
       "<Figure size 432x288 with 1 Axes>"
      ]
     },
     "metadata": {
      "needs_background": "light"
     },
     "output_type": "display_data"
    }
   ],
   "source": [
    "import matplotlib.pyplot as plt\n",
    "\n",
    "plt.bar(top_10.index, top_10['total_bill'])\n",
    "plt.title('My First Bar Plot', fontsize=20)\n",
    "plt.savefig('test.png')"
   ]
  },
  {
   "cell_type": "markdown",
   "id": "fd385c89",
   "metadata": {},
   "source": [
    "-----------------------------------------------------------------------"
   ]
  },
  {
   "cell_type": "code",
   "execution_count": 67,
   "id": "e6b26722",
   "metadata": {},
   "outputs": [
    {
     "name": "stdout",
     "output_type": "stream",
     "text": [
      "     total_bill    tip   sex smoker  day    time  size\n",
      "170       50.81  10.00  Male    Yes  Sat  Dinner     3\n",
      "212       48.33   9.00  Male     No  Sat  Dinner     4\n",
      "59        48.27   6.73  Male     No  Sat  Dinner     4\n",
      "156       48.17   5.00  Male     No  Sun  Dinner     6\n",
      "182       45.35   3.50  Male    Yes  Sun  Dinner     3\n"
     ]
    }
   ],
   "source": [
    "# 정렬하기2\n",
    "\n",
    "## head() 사용법2 → sort_values() 다음줄에 .head() 적기\n",
    "tmp = tip.sort_values(by='total_bill',\n",
    "                      ascending=False) # ascending=False (내림차순)\n",
    "tmp = tmp.head()\n",
    "\n",
    "# tmp 데이터프레임 확인\n",
    "print(tmp)"
   ]
  },
  {
   "cell_type": "code",
   "execution_count": 68,
   "id": "9035cf9b",
   "metadata": {},
   "outputs": [
    {
     "name": "stdout",
     "output_type": "stream",
     "text": [
      "     total_bill   tip     sex smoker   day    time  size\n",
      "67         3.07  1.00  Female    Yes   Sat  Dinner     1\n",
      "236       12.60  1.00    Male    Yes   Sat  Dinner     2\n",
      "92         5.75  1.00  Female    Yes   Fri  Dinner     2\n",
      "111        7.25  1.00  Female     No   Sat  Dinner     1\n",
      "0         16.99  1.01  Female     No   Sun  Dinner     2\n",
      "215       12.90  1.10  Female    Yes   Sat  Dinner     2\n",
      "237       32.83  1.17    Male    Yes   Sat  Dinner     2\n",
      "235       10.07  1.25    Male     No   Sat  Dinner     2\n",
      "75        10.51  1.25    Male     No   Sat  Dinner     2\n",
      "135        8.51  1.25  Female     No  Thur   Lunch     2\n"
     ]
    }
   ],
   "source": [
    "# 정렬하기3\n",
    "\n",
    "# ascending=True 로 작은 값부터 출력하고\n",
    "# head(10) 로 보니까 결국 마지막 10개를 보는 것과 같으니까 \n",
    "# bottom_10 으로 변수명을 정해주었다.\n",
    "bottom_10= tip.sort_values(by='tip', ascending=True).head(10)\n",
    "\n",
    "# bottom_10 데이터프레임 확인\n",
    "print(bottom_10)"
   ]
  },
  {
   "cell_type": "markdown",
   "id": "6bbd959d",
   "metadata": {},
   "source": [
    "# ★★★ 복합 열 정렬 → 리스트로 정렬해준다 ★★★  \n",
    "데이터프레임.sort_values( by=['컬럼명1', '컬럼명2'], ascending=[False, True] )"
   ]
  },
  {
   "cell_type": "code",
   "execution_count": 70,
   "id": "bd00b9ac",
   "metadata": {},
   "outputs": [
    {
     "name": "stdout",
     "output_type": "stream",
     "text": [
      "     total_bill    tip     sex smoker   day    time  size\n",
      "170       50.81  10.00    Male    Yes   Sat  Dinner     3\n",
      "212       48.33   9.00    Male     No   Sat  Dinner     4\n",
      "23        39.42   7.58    Male     No   Sat  Dinner     4\n",
      "59        48.27   6.73    Male     No   Sat  Dinner     4\n",
      "141       34.30   6.70    Male     No  Thur   Lunch     6\n",
      "..          ...    ...     ...    ...   ...     ...   ...\n",
      "0         16.99   1.01  Female     No   Sun  Dinner     2\n",
      "67         3.07   1.00  Female    Yes   Sat  Dinner     1\n",
      "92         5.75   1.00  Female    Yes   Fri  Dinner     2\n",
      "111        7.25   1.00  Female     No   Sat  Dinner     1\n",
      "236       12.60   1.00    Male    Yes   Sat  Dinner     2\n",
      "\n",
      "[244 rows x 7 columns]\n"
     ]
    }
   ],
   "source": [
    "# 정렬하기4\n",
    "\n",
    "# tip 열을 기준으로 내림차순 : ascending=False\n",
    "# tip 열 값이 같으면\n",
    "# → total_bill 열을 기준으로 오름차순 : ascending=True\n",
    "tmp = tip.sort_values(by=['tip', 'total_bill'],\n",
    "                           ascending=[False,True])\n",
    "\n",
    "# tmp 데이터프레임 확인\n",
    "print(tmp)\n",
    "# tip이 같은 경우는 ascending=True로 설정해서  작은 값이 먼저온다"
   ]
  },
  {
   "cell_type": "markdown",
   "id": "b4347e2a",
   "metadata": {},
   "source": [
    "-----------------------------------------------------------------------"
   ]
  },
  {
   "cell_type": "markdown",
   "id": "b3830254",
   "metadata": {},
   "source": [
    "# 3) 고유값 확인하기"
   ]
  },
  {
   "cell_type": "markdown",
   "id": "50aec069",
   "metadata": {},
   "source": [
    "* .value_counts() : unique한 값이 무엇이 있는지  + 갯수 확인"
   ]
  },
  {
   "cell_type": "markdown",
   "id": "7c2376ea",
   "metadata": {},
   "source": [
    "* 범주형 데이터 값 개수 확인하기 ★★★"
   ]
  },
  {
   "cell_type": "code",
   "execution_count": 82,
   "id": "1140041e",
   "metadata": {},
   "outputs": [
    {
     "name": "stdout",
     "output_type": "stream",
     "text": [
      "No     151\n",
      "Yes     93\n",
      "Name: smoker, dtype: int64\n"
     ]
    }
   ],
   "source": [
    "print(tip['smoker'].value_counts())"
   ]
  },
  {
   "cell_type": "code",
   "execution_count": 83,
   "id": "45c90ab7",
   "metadata": {},
   "outputs": [
    {
     "name": "stdout",
     "output_type": "stream",
     "text": [
      "Male      157\n",
      "Female     87\n",
      "Name: sex, dtype: int64\n"
     ]
    }
   ],
   "source": [
    "print(tip['sex'].value_counts())"
   ]
  },
  {
   "cell_type": "code",
   "execution_count": 76,
   "id": "2f05a8db",
   "metadata": {},
   "outputs": [
    {
     "name": "stdout",
     "output_type": "stream",
     "text": [
      "Dinner    176\n",
      "Lunch      68\n",
      "Name: time, dtype: int64\n"
     ]
    }
   ],
   "source": [
    "print(tip['time'].value_counts())"
   ]
  },
  {
   "cell_type": "code",
   "execution_count": 75,
   "id": "36815dca",
   "metadata": {
    "scrolled": true
   },
   "outputs": [
    {
     "name": "stdout",
     "output_type": "stream",
     "text": [
      "Sat     87\n",
      "Sun     76\n",
      "Thur    62\n",
      "Fri     19\n",
      "Name: day, dtype: int64\n"
     ]
    }
   ],
   "source": [
    "print(tip['day'].value_counts())"
   ]
  },
  {
   "cell_type": "markdown",
   "id": "3a092758",
   "metadata": {},
   "source": [
    "-----------------------------------------------------------------------"
   ]
  },
  {
   "cell_type": "markdown",
   "id": "bd6ef03d",
   "metadata": {},
   "source": [
    "* 기본 집계(sum, mean, max, min, count)"
   ]
  },
  {
   "cell_type": "code",
   "execution_count": 91,
   "id": "5e1f4131",
   "metadata": {},
   "outputs": [
    {
     "name": "stdout",
     "output_type": "stream",
     "text": [
      "50.81\n",
      "10.0\n",
      "731.5799999999999\n",
      "tip            2.998279\n",
      "total_bill    19.785943\n",
      "dtype: float64\n"
     ]
    }
   ],
   "source": [
    "# total_bill 의 최대값\n",
    "print(tip['total_bill'].max())\n",
    "\n",
    "# tip 의 최대값\n",
    "print(tip['tip'].max())\n",
    "\n",
    "# tip 의 합\n",
    "print(tip['tip'].sum())\n",
    "\n",
    "# 리스트로 묶어서 → 한 번에 tip 과 total_bill 의 평균 보기\n",
    "print(tip[['tip', 'total_bill']].mean())"
   ]
  },
  {
   "cell_type": "code",
   "execution_count": null,
   "id": "36ead9fb",
   "metadata": {},
   "outputs": [],
   "source": []
  },
  {
   "cell_type": "markdown",
   "id": "73c63a5d",
   "metadata": {},
   "source": [
    "# 오늘 배운거 정리"
   ]
  },
  {
   "cell_type": "code",
   "execution_count": 136,
   "id": "2b5b842d",
   "metadata": {},
   "outputs": [
    {
     "name": "stdout",
     "output_type": "stream",
     "text": [
      "[3, 4, 5]\n",
      "[4, 6, 8, 10, 12]\n",
      "   admit  gre   gpa  rank\n",
      "0      0  380  3.61     3\n",
      "1      1  660  3.67     3\n",
      "2      1  800  4.00     1\n",
      "3      1  640  3.19     4\n",
      "4      0  520  2.93     4\n"
     ]
    }
   ],
   "source": [
    "# 리스트 만들기\n",
    "a = list(range(1, 6)) #  a = [1, 2, 3, 4, 5]\n",
    "b = list(range(3, 8)) # b = [3, 4, 5, 6, 7]\n",
    "\n",
    "# a, b 가 공통으로 갖는 요소 찾기 = a 와 b 의 교집합\n",
    "c = list(set(a) & set(b)) # set() : Build an unordered collection of unique elements\n",
    "print(c)\n",
    "\n",
    "# a, b 각 요소의 합 ← numpy의 배열을 사용하면 된다!\n",
    "import numpy as np\n",
    "d = list(np.array(a) + np.array(b))\n",
    "print(d)\n",
    "\n",
    "\n",
    "# 데이터 읽어오기\n",
    "import pandas as pd\n",
    "path = 'https://bit.ly/GraduateFile'\n",
    "\n",
    "# graduate 데이터프레임 만들기\n",
    "graduate = pd.read_csv(path)  \n",
    "\n",
    "# graduate 데이터프레임 확임\n",
    "print(graduate.head())"
   ]
  },
  {
   "cell_type": "code",
   "execution_count": null,
   "id": "2e9fef45",
   "metadata": {},
   "outputs": [],
   "source": []
  },
  {
   "cell_type": "code",
   "execution_count": null,
   "id": "f86baa0e",
   "metadata": {},
   "outputs": [],
   "source": []
  },
  {
   "cell_type": "code",
   "execution_count": null,
   "id": "a4c5ed35",
   "metadata": {},
   "outputs": [],
   "source": []
  },
  {
   "cell_type": "code",
   "execution_count": null,
   "id": "46ced731",
   "metadata": {},
   "outputs": [],
   "source": []
  },
  {
   "cell_type": "code",
   "execution_count": null,
   "id": "2d99eef6",
   "metadata": {},
   "outputs": [],
   "source": []
  }
 ],
 "metadata": {
  "kernelspec": {
   "display_name": "Python 3",
   "language": "python",
   "name": "python3"
  },
  "language_info": {
   "codemirror_mode": {
    "name": "ipython",
    "version": 3
   },
   "file_extension": ".py",
   "mimetype": "text/x-python",
   "name": "python",
   "nbconvert_exporter": "python",
   "pygments_lexer": "ipython3",
   "version": "3.8.8"
  }
 },
 "nbformat": 4,
 "nbformat_minor": 5
}
